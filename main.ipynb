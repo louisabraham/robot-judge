{
 "cells": [
  {
   "cell_type": "markdown",
   "metadata": {
    "ExecuteTime": {
     "end_time": "2019-03-21T22:47:10.716360Z",
     "start_time": "2019-03-21T22:47:10.659743Z"
    }
   },
   "source": [
    "# Problem set 1"
   ]
  },
  {
   "cell_type": "code",
   "execution_count": 1,
   "metadata": {
    "ExecuteTime": {
     "end_time": "2019-03-21T23:04:39.762480Z",
     "start_time": "2019-03-21T23:04:36.869838Z"
    }
   },
   "outputs": [],
   "source": [
    "import spacy\n",
    "\n",
    "nlp = spacy.load(\"en\", disable=[\"ner\"])"
   ]
  },
  {
   "cell_type": "code",
   "execution_count": 2,
   "metadata": {
    "ExecuteTime": {
     "end_time": "2019-03-21T23:04:41.444143Z",
     "start_time": "2019-03-21T23:04:39.766087Z"
    }
   },
   "outputs": [],
   "source": [
    "from zipfile import ZipFile\n",
    "import re\n",
    "from tqdm import tqdm\n",
    "import random\n",
    "\n",
    "with ZipFile(\"cases.zip\") as zipfile:\n",
    "\n",
    "    ids = []\n",
    "    year = {}\n",
    "    cases = {}\n",
    "    for name in sorted(zipfile.namelist()):\n",
    "        m = re.match(r\"(\\d{4})_(\\w*).txt\", name)\n",
    "        id = m.group(2)\n",
    "        ids.append(id)\n",
    "        year[id] = int(m.group(1))\n",
    "        cases[id] = zipfile.open(name).read().decode(\"utf8\")\n",
    "\n"
   ]
  },
  {
   "cell_type": "code",
   "execution_count": 3,
   "metadata": {
    "ExecuteTime": {
     "end_time": "2019-03-21T23:11:34.011635Z",
     "start_time": "2019-03-21T23:04:41.446820Z"
    }
   },
   "outputs": [
    {
     "name": "stderr",
     "output_type": "stream",
     "text": [
      "500it [06:52,  1.21it/s]\n"
     ]
    }
   ],
   "source": [
    "ids = random.sample(ids, 500)\n",
    "cases = [cases[id] for id in ids]\n",
    "year = [year[id] for id in ids]\n",
    "docs = list(tqdm(nlp.pipe(cases, batch_size=10)))\n"
   ]
  },
  {
   "cell_type": "code",
   "execution_count": 4,
   "metadata": {
    "ExecuteTime": {
     "end_time": "2019-03-21T23:11:34.880933Z",
     "start_time": "2019-03-21T23:11:34.018434Z"
    }
   },
   "outputs": [
    {
     "data": {
      "text/plain": [
       "(array([282., 133.,  52.,  22.,   4.,   5.,   0.,   1.,   0.,   1.]),\n",
       " array([   2. ,  147.5,  293. ,  438.5,  584. ,  729.5,  875. , 1020.5,\n",
       "        1166. , 1311.5, 1457. ]),\n",
       " <a list of 10 Patch objects>)"
      ]
     },
     "execution_count": 4,
     "metadata": {},
     "output_type": "execute_result"
    }
   ],
   "source": [
    "import matplotlib.pyplot as plt\n",
    "\n",
    "plt.title(\"Number of sentences\")\n",
    "plt.hist([sum(1 for _ in doc.sents) for doc in docs])\n"
   ]
  },
  {
   "cell_type": "code",
   "execution_count": 5,
   "metadata": {
    "ExecuteTime": {
     "end_time": "2019-03-21T23:11:35.733490Z",
     "start_time": "2019-03-21T23:11:34.885124Z"
    }
   },
   "outputs": [
    {
     "data": {
      "text/plain": [
       "(array([270., 142.,  51.,  25.,   5.,   3.,   1.,   1.,   1.,   1.]),\n",
       " array([1.20000e+01, 3.32530e+03, 6.63860e+03, 9.95190e+03, 1.32652e+04,\n",
       "        1.65785e+04, 1.98918e+04, 2.32051e+04, 2.65184e+04, 2.98317e+04,\n",
       "        3.31450e+04]),\n",
       " <a list of 10 Patch objects>)"
      ]
     },
     "execution_count": 5,
     "metadata": {},
     "output_type": "execute_result"
    },
    {
     "data": {
      "image/png": "[encoded data removed]",
      "text/plain": [
       "<Figure size 432x288 with 1 Axes>"
      ]
     },
     "metadata": {},
     "output_type": "display_data"
    }
   ],
   "source": [
    "plt.title(\"Number of words\")\n",
    "plt.hist([sum(1 for _ in doc) for doc in docs])\n"
   ]
  },
  {
   "cell_type": "code",
   "execution_count": 6,
   "metadata": {
    "ExecuteTime": {
     "end_time": "2019-03-21T23:11:39.292653Z",
     "start_time": "2019-03-21T23:11:35.741911Z"
    }
   },
   "outputs": [
    {
     "data": {
      "text/plain": [
       "(array([273., 144.,  49.,  23.,   6.,   1.,   1.,   1.,   1.,   1.]),\n",
       " array([4.100000e+01, 1.731560e+04, 3.459020e+04, 5.186480e+04,\n",
       "        6.913940e+04, 8.641400e+04, 1.036886e+05, 1.209632e+05,\n",
       "        1.382378e+05, 1.555124e+05, 1.727870e+05]),\n",
       " <a list of 10 Patch objects>)"
      ]
     },
     "execution_count": 6,
     "metadata": {},
     "output_type": "execute_result"
    },
    {
     "data": {
      "image/png": "[encoded data removed]",
      "text/plain": [
       "<Figure size 432x288 with 1 Axes>"
      ]
     },
     "metadata": {},
     "output_type": "display_data"
    }
   ],
   "source": [
    "plt.title(\"Number of letters\")\n",
    "plt.hist([sum(1 for _ in doc.text) for doc in docs])\n"
   ]
  },
  {
   "cell_type": "code",
   "execution_count": 7,
   "metadata": {
    "ExecuteTime": {
     "end_time": "2019-03-21T23:11:40.543013Z",
     "start_time": "2019-03-21T23:11:39.298870Z"
    }
   },
   "outputs": [
    {
     "data": {
      "text/plain": [
       "(array([277., 149.,  47.,  17.,   5.,   2.,   1.,   1.,   0.,   1.]),\n",
       " array([   0. ,  635.6, 1271.2, 1906.8, 2542.4, 3178. , 3813.6, 4449.2,\n",
       "        5084.8, 5720.4, 6356. ]),\n",
       " <a list of 10 Patch objects>)"
      ]
     },
     "execution_count": 7,
     "metadata": {},
     "output_type": "execute_result"
    },
    {
     "data": {
      "image/png": "[encoded data removed]",
      "text/plain": [
       "<Figure size 432x288 with 1 Axes>"
      ]
     },
     "metadata": {},
     "output_type": "display_data"
    }
   ],
   "source": [
    "plt.title(\"Number of nouns\")\n",
    "plt.hist([sum(tok.pos_ == \"NOUN\" for tok in doc) for doc in docs])\n"
   ]
  },
  {
   "cell_type": "code",
   "execution_count": 8,
   "metadata": {
    "ExecuteTime": {
     "end_time": "2019-03-21T23:11:41.733636Z",
     "start_time": "2019-03-21T23:11:40.548161Z"
    }
   },
   "outputs": [
    {
     "data": {
      "text/plain": [
       "(array([254., 153.,  56.,  23.,   8.,   2.,   1.,   1.,   1.,   1.]),\n",
       " array([1.0000e+00, 4.0510e+02, 8.0920e+02, 1.2133e+03, 1.6174e+03,\n",
       "        2.0215e+03, 2.4256e+03, 2.8297e+03, 3.2338e+03, 3.6379e+03,\n",
       "        4.0420e+03]),\n",
       " <a list of 10 Patch objects>)"
      ]
     },
     "execution_count": 8,
     "metadata": {},
     "output_type": "execute_result"
    },
    {
     "data": {
      "image/png": "[encoded data removed]",
      "text/plain": [
       "<Figure size 432x288 with 1 Axes>"
      ]
     },
     "metadata": {},
     "output_type": "display_data"
    }
   ],
   "source": [
    "plt.title(\"Number of verbs\")\n",
    "plt.hist([sum(tok.pos_ == \"VERB\" for tok in doc) for doc in docs])\n"
   ]
  },
  {
   "cell_type": "code",
   "execution_count": 9,
   "metadata": {
    "ExecuteTime": {
     "end_time": "2019-03-21T23:11:42.847081Z",
     "start_time": "2019-03-21T23:11:41.739292Z"
    }
   },
   "outputs": [
    {
     "data": {
      "text/plain": [
       "(array([324., 113.,  43.,  10.,   6.,   1.,   0.,   2.,   0.,   1.]),\n",
       " array([   0. ,  253.3,  506.6,  759.9, 1013.2, 1266.5, 1519.8, 1773.1,\n",
       "        2026.4, 2279.7, 2533. ]),\n",
       " <a list of 10 Patch objects>)"
      ]
     },
     "execution_count": 9,
     "metadata": {},
     "output_type": "execute_result"
    },
    {
     "data": {
      "image/png": "[encoded data removed]",
      "text/plain": [
       "<Figure size 432x288 with 1 Axes>"
      ]
     },
     "metadata": {},
     "output_type": "display_data"
    }
   ],
   "source": [
    "plt.title(\"Number of adjectives\")\n",
    "plt.hist([sum(tok.pos_ == \"ADJ\" for tok in doc) for doc in docs])\n"
   ]
  },
  {
   "cell_type": "code",
   "execution_count": 10,
   "metadata": {
    "ExecuteTime": {
     "end_time": "2019-03-21T23:11:45.902941Z",
     "start_time": "2019-03-21T23:11:42.852036Z"
    }
   },
   "outputs": [],
   "source": [
    "from operator import itemgetter\n",
    "\n",
    "\n",
    "def normalize(doc):\n",
    "    ans = []\n",
    "    for tok in doc:\n",
    "        if tok.is_stop or tok.is_punct or tok.is_space:\n",
    "            continue\n",
    "        norm = tok.lemma_\n",
    "        if norm:\n",
    "            ans.append((norm, tok.pos_))\n",
    "    return ans\n",
    "\n",
    "\n",
    "def make_trigrams(words):\n",
    "    return list(zip(words, words[1:], words[2:]))\n",
    "\n",
    "\n",
    "def filter_for_nouns(trigrams):\n",
    "    return [\n",
    "        tuple(map(itemgetter(0), tri))\n",
    "        for tri in trigrams\n",
    "        if tri[-1][1] == \"NOUN\"\n",
    "    ]\n",
    "\n",
    "\n",
    "trigrams = [filter_for_nouns(make_trigrams(normalize(doc))) for doc in docs]"
   ]
  },
  {
   "cell_type": "code",
   "execution_count": 11,
   "metadata": {
    "ExecuteTime": {
     "end_time": "2019-03-21T23:11:46.230611Z",
     "start_time": "2019-03-21T23:11:45.905753Z"
    }
   },
   "outputs": [],
   "source": [
    "from collections import Counter\n",
    "import itertools\n",
    "from functools import partial\n",
    "\n",
    "most_common_trigrams = [\n",
    "    t for t, _ in Counter(itertools.chain.from_iterable(trigrams)).most_common(1000)\n",
    "]\n"
   ]
  },
  {
   "cell_type": "code",
   "execution_count": 12,
   "metadata": {
    "ExecuteTime": {
     "end_time": "2019-03-21T23:11:46.286142Z",
     "start_time": "2019-03-21T23:11:46.234310Z"
    }
   },
   "outputs": [],
   "source": [
    "def make_feature(most_common_trigrams, trigrams):\n",
    "    c = Counter(trigrams)\n",
    "    return list(map(c.__getitem__, most_common_trigrams))\n",
    "\n"
   ]
  },
  {
   "cell_type": "code",
   "execution_count": 13,
   "metadata": {
    "ExecuteTime": {
     "end_time": "2019-03-21T23:11:47.119709Z",
     "start_time": "2019-03-21T23:11:46.290254Z"
    }
   },
   "outputs": [],
   "source": [
    "\n",
    "import pandas as pd\n",
    "import numpy as np\n",
    "\n",
    "X = np.array(list(list(map(partial(make_feature, most_common_trigrams), trigrams))))\n",
    "X = X / X.std(axis=0)\n"
   ]
  },
  {
   "cell_type": "code",
   "execution_count": 14,
   "metadata": {
    "ExecuteTime": {
     "end_time": "2019-03-21T23:11:47.321200Z",
     "start_time": "2019-03-21T23:11:47.123477Z"
    }
   },
   "outputs": [],
   "source": [
    "\n",
    "df = pd.DataFrame({\"caseid\": ids, **dict(zip(most_common_trigrams, X.T))}).merge(\n",
    "    pd.read_csv(\"case_reversed.csv\"), on=\"caseid\"\n",
    ")\n",
    "y = df.case_reversed.values\n"
   ]
  },
  {
   "cell_type": "code",
   "execution_count": 15,
   "metadata": {
    "ExecuteTime": {
     "end_time": "2019-03-21T23:11:48.297785Z",
     "start_time": "2019-03-21T23:11:47.327358Z"
    }
   },
   "outputs": [
    {
     "name": "stdout",
     "output_type": "stream",
     "text": [
      "Training accuracy 0.9825\n",
      "Training F1 0.9825\n",
      "Test accuracy 0.59\n",
      "Test F1 0.59\n"
     ]
    }
   ],
   "source": [
    "from sklearn.model_selection import train_test_split, GridSearchCV\n",
    "from sklearn.linear_model import LogisticRegression, LogisticRegressionCV\n",
    "\n",
    "X_train, X_test, y_train, y_test = train_test_split(X, y, test_size=0.2)\n",
    "model = LogisticRegression(solver=\"liblinear\")\n",
    "\n",
    "model.fit(X_train, y_train)\n",
    "\n",
    "print(f\"Training accuracy {model.score(X_train, y_train)}\")\n",
    "print(f\"Training F1 {model.score(X_train, y_train)}\")\n",
    "print(f\"Test accuracy {model.score(X_test, y_test)}\")\n",
    "print(f\"Test F1 {model.score(X_test, y_test)}\")\n",
    "\n"
   ]
  },
  {
   "cell_type": "code",
   "execution_count": 16,
   "metadata": {
    "ExecuteTime": {
     "end_time": "2019-03-21T23:11:49.551552Z",
     "start_time": "2019-03-21T23:11:48.303663Z"
    }
   },
   "outputs": [
    {
     "name": "stdout",
     "output_type": "stream",
     "text": [
      "Best model got 0.606004200420042 accuracy with params {'C': 1e-05, 'penalty': 'l2'}\n"
     ]
    }
   ],
   "source": [
    "\n",
    "model = GridSearchCV(\n",
    "    LogisticRegression(solver=\"liblinear\"),\n",
    "    {\"penalty\": (\"l1\", \"l2\"), \"C\": [10 ** i for i in range(-5, 5)]},\n",
    "    cv=5,\n",
    "    iid=False,\n",
    ")\n",
    "model.fit(X, y)\n",
    "\n",
    "print(f\"Best model got {model.best_score_} accuracy with params {model.best_params_}\")\n"
   ]
  },
  {
   "cell_type": "code",
   "execution_count": 17,
   "metadata": {
    "ExecuteTime": {
     "end_time": "2019-03-21T23:11:49.904858Z",
     "start_time": "2019-03-21T23:11:49.556219Z"
    }
   },
   "outputs": [
    {
     "data": {
      "image/png": "[encoded data removed]",
      "text/plain": [
       "<Figure size 432x288 with 1 Axes>"
      ]
     },
     "metadata": {},
     "output_type": "display_data"
    }
   ],
   "source": [
    "from sklearn.metrics import roc_curve, roc_auc_score\n",
    "from sklearn.model_selection import cross_val_predict\n",
    "\n",
    "scores = cross_val_predict(model.best_estimator_, X, y, cv=5)\n",
    "fpr, tpr, thresholds = roc_curve(y, scores)\n",
    "\n",
    "plt.plot(\n",
    "    fpr,\n",
    "    tpr,\n",
    "    color=\"darkorange\",\n",
    "    label=f\"ROC curve (area = {roc_auc_score(y, scores):.02f})\",\n",
    ")\n",
    "plt.plot([0, 1], [0, 1], color=\"navy\", linestyle=\"--\")\n",
    "plt.xlim([0.0, 1.0])\n",
    "plt.ylim([0.0, 1.05])\n",
    "plt.xlabel(\"False Positive Rate\")\n",
    "plt.ylabel(\"True Positive Rate\")\n",
    "plt.title(\"Receiver operating characteristic example\")\n",
    "plt.legend(loc=\"lower right\")\n",
    "plt.show()\n",
    "\n"
   ]
  },
  {
   "cell_type": "code",
   "execution_count": 18,
   "metadata": {
    "ExecuteTime": {
     "end_time": "2019-03-21T23:11:52.768072Z",
     "start_time": "2019-03-21T23:11:49.908887Z"
    }
   },
   "outputs": [],
   "source": [
    "from operator import attrgetter\n",
    "\n",
    "sentences = list(\n",
    "    map(\n",
    "        attrgetter(\"text\"),\n",
    "        itertools.chain.from_iterable(map(attrgetter(\"sents\"), docs)),\n",
    "    )\n",
    ")\n",
    "\n",
    "sentences = random.sample(sentences, 10000)"
   ]
  },
  {
   "cell_type": "code",
   "execution_count": 19,
   "metadata": {
    "ExecuteTime": {
     "end_time": "2019-03-21T23:11:57.423850Z",
     "start_time": "2019-03-21T23:11:52.774334Z"
    }
   },
   "outputs": [
    {
     "name": "stdout",
     "output_type": "stream",
     "text": [
      "lowest compound scores:\n",
      "Quite similar to the wrongful death statute of Oklahoma, supra , at the time of the airplane crash referred to herein, it was provided by statute in Missouri that when the death of a person was caused by a wrongful act, neglect, or default of another, and such act, neglect, or default was such as would, if death had not ensued, have entitled the party injured to maintain an action and recover damages therefor, an action for damages might be maintained, notwithstanding the death of the person injured.\n",
      "\n",
      "Both appellants were charged with conspiracy to commit offenses against the United States, in violation of 18 U.S.C. 371 (count I); wire fraud, in violation of 18 U.S.C. 1343 (count II); interstate transportation of stolen property, in violation of 18 U.S.C. 2314 (count III); misapplication of funds, in violation of 18 U.S.C. 657 (count IV); false statements, in violation of 18 U.S.C. 1006 (count VI and VIII).\n",
      "\n",
      "While it would be trite in ordinary circumstances to do so, it may be appropriate in this case to say that, in the absence of a controlling statute providing otherwise, the general rule is that where an act of omission or commission occurs at one place and resulting death, personal injury, or damage takes place at another, the situs of the actionable wrong is the place at which the death, personal injury or property damage takes place.\n",
      "\n",
      "The statute defined torture and hostage taking, see 1605(e), 1350 note, by reference to the Convention Against Torture and Other Cruel, [***2] Inhuman or Degrading Treatment or Punishment art.\n",
      "\n",
      "However, Lambrix argues that counsel's investigation was inadequate because counsel failed to discover further evidence of chemical dependence, and counsel failed to uncover any evidence whatsoever of sexual and physical abuse and neglect.\n",
      "\n",
      "Cross was charged with several counts of criminal sexual assault, aggravated sexual assault, and aggravated kidnapping.\n",
      "\n",
      "We held there that whether a conspiracy exists is a question of ultimate fact, but whether such conspiracy was illegal under the statute was a question of law, and since the trial court had found as an ultimate fact that there was no conspiracy, and concluded as a matter of law that defendants' practice and contracts with plaintiffs were lawful and reasonable, we were not permitted to alter the findings of fact, nor to reverse for error in the legal conclusions because the latter were substantially supported by the findings.\n",
      "\n",
      "The district court's ruling that no probable cause existed to arrest Patane for violating the domestic violence restraining order was based on its view that domestic disputes often involve \"claims and counterclaims thrown between people who have separated some sort of an intimate relationship,\" and therefore that uncorroborated allegations arising from such disputes are \"just inadequate\" to establish probable cause.\n",
      "\n",
      "Tennessee law authorizing the use of deadly force against all fleeing felons is at odds with the purpose and function of the common law principle because there are now hundreds of state and federal felonies that range all the way from violations of tax, securities and antitrust laws and the possession of stolen or fraudulently obtained property to murder and crimes of terror.\n",
      "\n",
      "The state reasons that aggravated murder includes three elements: (1) the felony; (2) the act; and (3) the intent to kill.\n",
      "\n",
      "highest compound scores:\n",
      "It has always been the practice in American admiralty courts to allow the parties every opportunity to place their whole case before the court and to enable the court to administer substantial justice between the parties.\n",
      "\n",
      "It is also an axiom of trust law that a trustee should not be permitted to benefit from his own breaches, Restatement (Second) of Trusts 205 comment i, and the constructive trust has long been recognized as a method for preventing the unjust enrichment of a trustee who has fraudulently divested a trust.\n",
      "\n",
      "The district court agreed with the bankruptcy court that the plan met 1129(a)(7)(A) 's \"best interest\" test because, under the proposed plan, Bank America receives property of a value not less than the amount Bank America would receive if the debtor had proceeded under Chapter 7: The present value of the plan for the secured claim is the same under the plan as Bank America would receive in a Chapter 7 liquidation.\n",
      "\n",
      "(\"[i]f a beneficiary is also a trustee of his own trust and if he steals trust funds, or causes damage to the trust estate in other ways, his share under the trust, whether in his own hands or those of a transferee, will be taken by the court in order to make good the loss\").\n",
      "\n",
      "In reversing the ruling of the Ninth Circuit in Aeronautical Lodge, Mr. Justice Frankfurter made it clear that in enacting Section 8 of the Selective Training and Service Act Congress was not creating a seniority system for veterans but was recognizing seniority systems created by collective bargaining agreements, save where their provisions were discriminatory in respect to a returning veteran.\n",
      "\n",
      "\"This agreement may be canceled and terminated by the Company or the Union as of a date subsequent to October 23, 1951, by compliance with the following procedure: \"(a) If either party to this agreement desires to amend the terms of this agreement, it shall notify the other party in writing of its desire to that effect, by registered mail.\n",
      "\n",
      "To the extent of any interest therein of which the decedent has at any time made a transfer, or with respect to which he has at any time created a trust, in contemplation of or intended to take effect in possession or enjoyment at or after his death (whether such transfer or trust is made or created before or after the passage of this Act), except in case of a bona fide sale for a fair consideration in money or money's worth.\n",
      "\n",
      "The contract also provided that the appellant should furnish certain so-called services to the Company, described by appellant as follows: \"Upon request, to furnish by mail to the company its credit information in hand about the customers of the company; have its auditors give to the company the report of each examination provided for in the contract, with full information and advice as to the most desirable method of keeping the books, records and accounts of the company; pay for all accounting, postage and credit investigation of accounts purchased or offered for purchase under the contract and upon request give financial and business advice; obtain and have on hand at all times sufficient funds to make prompt remittance to the company for all acceptable accounts within the limits agreed upon in the contract; supply all forms needed for the assignment of accounts; place its credit department and collection department at the disposal of the company and permit the company to submit any of its sales contracts with its customers to the general counsel of appellant for advice and opinion as to the form and legality thereof.\"\n",
      "\n",
      "The ratio decidendi of Hopkins v. United States , supra , was emphasized by the appellees but the Supreme Court, having in mind the size of the combination, stated that the 9,000 members of the United Hatters of North America had acted in concert with the 1,400,000 members of the American Federation of Labor, compelling the great majority of the manufacturers of fur hats in the United States to unionize their plants.\n",
      "\n",
      "An alien who is permitted to enter this country and to enjoy the blessings of freedom under the Constitution and laws of the United States, and who wilfully evades or attempts to evade the payment of his fair share of the taxes needed to support our Government is surely engaged in conduct involving moral turpitude.\n",
      "\n"
     ]
    }
   ],
   "source": [
    "from nltk.sentiment.vader import SentimentIntensityAnalyzer\n",
    "\n",
    "sid = SentimentIntensityAnalyzer()\n",
    "\n",
    "scores = list(map(itemgetter(\"compound\"), map(sid.polarity_scores, sentences)))\n",
    "\n",
    "lowest = np.argsort(scores)[:10]\n",
    "print(\"lowest compound scores:\")\n",
    "print(*map(sentences.__getitem__, lowest), sep=\"\\n\")\n",
    "print(\"highest compound scores:\")\n",
    "highest = np.argsort(scores)[-10:]\n",
    "print(*map(sentences.__getitem__, highest), sep=\"\\n\")\n"
   ]
  },
  {
   "cell_type": "code",
   "execution_count": 20,
   "metadata": {
    "ExecuteTime": {
     "end_time": "2019-03-21T23:11:58.022652Z",
     "start_time": "2019-03-21T23:11:57.428561Z"
    }
   },
   "outputs": [],
   "source": [
    "from sklearn.feature_extraction.text import TfidfVectorizer\n",
    "\n",
    "vectorizer = TfidfVectorizer()\n",
    "X = vectorizer.fit_transform(sentences)\n"
   ]
  },
  {
   "cell_type": "code",
   "execution_count": 21,
   "metadata": {
    "ExecuteTime": {
     "end_time": "2019-03-21T23:12:39.078393Z",
     "start_time": "2019-03-21T23:11:58.029159Z"
    }
   },
   "outputs": [],
   "source": [
    "from sklearn.metrics.pairwise import cosine_similarity\n",
    "\n",
    "similarities = cosine_similarity(X)\n",
    "\n",
    "aux = np.unravel_index(np.argsort(similarities.ravel()), similarities.shape)\n"
   ]
  },
  {
   "cell_type": "code",
   "execution_count": 22,
   "metadata": {
    "ExecuteTime": {
     "end_time": "2019-03-21T23:12:39.165048Z",
     "start_time": "2019-03-21T23:12:39.081667Z"
    }
   },
   "outputs": [
    {
     "data": {
      "text/plain": [
       "(array([4859, 5636, 5636, ..., 2017, 9012, 1404]),\n",
       " array([8761, 1401, 1404, ..., 6304, 1404, 9012]))"
      ]
     },
     "execution_count": 22,
     "metadata": {},
     "output_type": "execute_result"
    }
   ],
   "source": [
    "aux"
   ]
  },
  {
   "cell_type": "code",
   "execution_count": 23,
   "metadata": {
    "ExecuteTime": {
     "end_time": "2019-03-21T23:12:43.622163Z",
     "start_time": "2019-03-21T23:12:39.170446Z"
    }
   },
   "outputs": [
    {
     "data": {
      "text/plain": [
       "array([0., 0., 0., ..., 1., 1., 1.])"
      ]
     },
     "execution_count": 23,
     "metadata": {},
     "output_type": "execute_result"
    }
   ],
   "source": [
    "similarities[aux[0], aux[1]]"
   ]
  },
  {
   "cell_type": "code",
   "execution_count": 25,
   "metadata": {
    "ExecuteTime": {
     "end_time": "2019-03-21T23:17:27.838709Z",
     "start_time": "2019-03-21T23:17:27.723556Z"
    }
   },
   "outputs": [
    {
     "name": "stdout",
     "output_type": "stream",
     "text": [
      "Dissimilar sentences\n",
      "Although Myers and Humphrey's Executor both concerned officers who were appointed by the President, whereas the independent counsel was appointed by the Special Court, we think the Supreme Court's analysis of the President's removal power in both cases applies to an officer who, like the independent counsel, is charged with an indisputably executive function.\n",
      "\n",
      "Id .\n",
      "\n",
      "---\n",
      "In this context the word \"review\" is a misnomer; the Special Court is basically a \"superior and revising agency\" with a veto over the Attorney General's decision.\n",
      "\n",
      "J.A.\n",
      "230.\n",
      "\n",
      "---\n",
      "In this context the word \"review\" is a misnomer; the Special Court is basically a \"superior and revising agency\" with a veto over the Attorney General's decision.\n",
      "\n",
      "1602 , 16 L.Ed.2d\n",
      "---\n",
      "In this context the word \"review\" is a misnomer; the Special Court is basically a \"superior and revising agency\" with a veto over the Attorney General's decision.\n",
      "\n",
      "Res judicata generally applies to bind absent class members except where to do so would violate due process.\n",
      "\n",
      "---\n",
      "In this context the word \"review\" is a misnomer; the Special Court is basically a \"superior and revising agency\" with a veto over the Attorney General's decision.\n",
      "\n",
      "(9th Cir. 2002).\n",
      "\n",
      "---\n",
      "Similar sentences\n",
      "(Italics supplied).\n",
      "\n",
      "(Italics supplied.)\n",
      "\n",
      "---\n",
      ", 84 L.Ed.\n",
      "84 L.Ed.\n",
      "---\n",
      "See , H.R.Rep.\n",
      "\n",
      "See S.Rep.\n",
      "\n",
      "---\n",
      "18 U.S.C. 2339B (j).\n",
      "\n",
      "18 U.S.C. 2339B (h).\n",
      "\n",
      "---\n",
      "68 L.Ed.\n",
      "( 68 L. Ed.\n",
      "---\n"
     ]
    }
   ],
   "source": [
    "\n",
    "print(\"Dissimilar sentences\")\n",
    "for a, b in zip(aux[0][:5], aux[1][:5]):\n",
    "    print(sentences[a])\n",
    "    print(sentences[b])\n",
    "    print('---')\n",
    "\n",
    "print(\"Similar sentences\")\n",
    "c = 5\n",
    "i = 0\n",
    "while c:\n",
    "    i += 1\n",
    "    a, b = aux[0][-i], aux[1][-i]\n",
    "    if sentences[a] == sentences[b]:\n",
    "        continue\n",
    "    print(sentences[a])\n",
    "    print(sentences[b])\n",
    "    print('---')\n",
    "    c -= 1\n"
   ]
  },
  {
   "cell_type": "code",
   "execution_count": null,
   "metadata": {},
   "outputs": [],
   "source": []
  }
 ],
 "metadata": {
  "file_extension": ".py",
  "kernelspec": {
   "display_name": "Python 3",
   "language": "python",
   "name": "python3"
  },
  "language_info": {
   "codemirror_mode": {
    "name": "ipython",
    "version": 3
   },
   "file_extension": ".py",
   "mimetype": "text/x-python",
   "name": "python",
   "nbconvert_exporter": "python",
   "pygments_lexer": "ipython3",
   "version": "3.6.7"
  },
  "mimetype": "text/x-python",
  "name": "python",
  "npconvert_exporter": "python",
  "pygments_lexer": "ipython3",
  "toc": {
   "colors": {
    "hover_highlight": "#DAA520",
    "navigate_num": "#000000",
    "navigate_text": "#333333",
    "running_highlight": "#FF0000",
    "selected_highlight": "#FFD700",
    "sidebar_border": "#EEEEEE",
    "wrapper_background": "#FFFFFF"
   },
   "moveMenuLeft": false,
   "nav_menu": {
    "height": "12px",
    "width": "252px"
   },
   "navigate_menu": true,
   "number_sections": true,
   "sideBar": true,
   "skipTitle": true,
   "threshold": 4,
   "toc_cell": false,
   "toc_section_display": "block",
   "toc_window_display": false,
   "widenNotebook": false
  },
  "version": 3
 },
 "nbformat": 4,
 "nbformat_minor": 2
}
